git rm path/to/file
git commit -m "Remove file from folder"
