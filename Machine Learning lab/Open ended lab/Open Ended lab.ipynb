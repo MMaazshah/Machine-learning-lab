{
 "cells": [
  {
   "cell_type": "code",
   "execution_count": 23,
   "id": "e7e153ca",
   "metadata": {},
   "outputs": [
    {
     "name": "stdout",
     "output_type": "stream",
     "text": [
      "✅ Libraries loaded successfully.\n"
     ]
    }
   ],
   "source": [
    "import numpy as np\n",
    "import pandas as pd\n",
    "import os\n",
    "import joblib\n",
    "from tensorflow.keras.models import Sequential\n",
    "from tensorflow.keras.layers import LSTM, Dense\n",
    "from tensorflow.keras.callbacks import EarlyStopping, ModelCheckpoint\n",
    "from sklearn.metrics import mean_squared_error\n",
    "\n",
    "print(\"✅ Libraries loaded successfully.\")\n"
   ]
  },
  {
   "cell_type": "code",
   "execution_count": 25,
   "id": "0a686790",
   "metadata": {},
   "outputs": [
    {
     "name": "stdout",
     "output_type": "stream",
     "text": [
      "✅ Configuration set.\n"
     ]
    }
   ],
   "source": [
    "# === CONFIGURATION ===\n",
    "LOOK_BACK = 24\n",
    "TARGET_COL = 0  # Index of the target column\n",
    "EPOCHS = 10\n",
    "BATCH_SIZE = 32\n",
    "PATIENCE = 10\n",
    "\n",
    "DATA_DIR = r\"C:\\Users\\PMLS\\ml\\Machine Learning\\Machine Learning lab\\Open ended lab\"\n",
    "MODEL_PATH = os.path.join(DATA_DIR, \"lstm_model.h5\")\n",
    "CHECKPOINT_PATH = os.path.join(DATA_DIR, \"E1-cp-best.h5\")\n",
    "\n",
    "print(\"✅ Configuration set.\")\n"
   ]
  },
  {
   "cell_type": "code",
   "execution_count": 27,
   "id": "ab8f9d26",
   "metadata": {},
   "outputs": [
    {
     "name": "stdout",
     "output_type": "stream",
     "text": [
      "✅ Data loaded successfully.\n"
     ]
    },
    {
     "data": {
      "text/html": [
       "<div>\n",
       "<style scoped>\n",
       "    .dataframe tbody tr th:only-of-type {\n",
       "        vertical-align: middle;\n",
       "    }\n",
       "\n",
       "    .dataframe tbody tr th {\n",
       "        vertical-align: top;\n",
       "    }\n",
       "\n",
       "    .dataframe thead th {\n",
       "        text-align: right;\n",
       "    }\n",
       "</style>\n",
       "<table border=\"1\" class=\"dataframe\">\n",
       "  <thead>\n",
       "    <tr style=\"text-align: right;\">\n",
       "      <th></th>\n",
       "      <th>daylight_savings_status</th>\n",
       "      <th>non_shiftable_load</th>\n",
       "      <th>dhw_demand</th>\n",
       "      <th>cooling_demand</th>\n",
       "      <th>heating_demand</th>\n",
       "      <th>solar_generation</th>\n",
       "      <th>outdoor_dry_bulb_temperature</th>\n",
       "      <th>outdoor_relative_humidity</th>\n",
       "      <th>diffuse_solar_irradiance</th>\n",
       "      <th>direct_solar_irradiance</th>\n",
       "      <th>...</th>\n",
       "      <th>hour_cos</th>\n",
       "      <th>month_sin</th>\n",
       "      <th>month_cos</th>\n",
       "      <th>day_type_1</th>\n",
       "      <th>day_type_2</th>\n",
       "      <th>day_type_3</th>\n",
       "      <th>day_type_4</th>\n",
       "      <th>day_type_5</th>\n",
       "      <th>day_type_6</th>\n",
       "      <th>day_type_7</th>\n",
       "    </tr>\n",
       "  </thead>\n",
       "  <tbody>\n",
       "    <tr>\n",
       "      <th>0</th>\n",
       "      <td>0.0</td>\n",
       "      <td>1.494038</td>\n",
       "      <td>0.0</td>\n",
       "      <td>0.0</td>\n",
       "      <td>0.0</td>\n",
       "      <td>-0.684403</td>\n",
       "      <td>0.891128</td>\n",
       "      <td>0.690366</td>\n",
       "      <td>-0.712568</td>\n",
       "      <td>-0.679431</td>\n",
       "      <td>...</td>\n",
       "      <td>1.414214</td>\n",
       "      <td>-0.700959</td>\n",
       "      <td>-1.218894</td>\n",
       "      <td>-0.411966</td>\n",
       "      <td>-0.407596</td>\n",
       "      <td>-0.407596</td>\n",
       "      <td>-0.407596</td>\n",
       "      <td>-0.407596</td>\n",
       "      <td>-0.407596</td>\n",
       "      <td>2.452266</td>\n",
       "    </tr>\n",
       "    <tr>\n",
       "      <th>1</th>\n",
       "      <td>0.0</td>\n",
       "      <td>0.436419</td>\n",
       "      <td>0.0</td>\n",
       "      <td>0.0</td>\n",
       "      <td>0.0</td>\n",
       "      <td>-0.684403</td>\n",
       "      <td>0.919287</td>\n",
       "      <td>0.364091</td>\n",
       "      <td>-0.712568</td>\n",
       "      <td>-0.679431</td>\n",
       "      <td>...</td>\n",
       "      <td>1.366025</td>\n",
       "      <td>-1.219679</td>\n",
       "      <td>-0.702314</td>\n",
       "      <td>2.427388</td>\n",
       "      <td>-0.407596</td>\n",
       "      <td>-0.407596</td>\n",
       "      <td>-0.407596</td>\n",
       "      <td>-0.407596</td>\n",
       "      <td>-0.407596</td>\n",
       "      <td>-0.407786</td>\n",
       "    </tr>\n",
       "    <tr>\n",
       "      <th>2</th>\n",
       "      <td>0.0</td>\n",
       "      <td>0.088116</td>\n",
       "      <td>0.0</td>\n",
       "      <td>0.0</td>\n",
       "      <td>0.0</td>\n",
       "      <td>-0.684403</td>\n",
       "      <td>0.806648</td>\n",
       "      <td>0.298836</td>\n",
       "      <td>-0.712568</td>\n",
       "      <td>-0.679431</td>\n",
       "      <td>...</td>\n",
       "      <td>1.224745</td>\n",
       "      <td>-1.219679</td>\n",
       "      <td>-0.702314</td>\n",
       "      <td>2.427388</td>\n",
       "      <td>-0.407596</td>\n",
       "      <td>-0.407596</td>\n",
       "      <td>-0.407596</td>\n",
       "      <td>-0.407596</td>\n",
       "      <td>-0.407596</td>\n",
       "      <td>-0.407786</td>\n",
       "    </tr>\n",
       "    <tr>\n",
       "      <th>3</th>\n",
       "      <td>0.0</td>\n",
       "      <td>-0.633310</td>\n",
       "      <td>0.0</td>\n",
       "      <td>0.0</td>\n",
       "      <td>0.0</td>\n",
       "      <td>-0.684403</td>\n",
       "      <td>0.694009</td>\n",
       "      <td>0.298836</td>\n",
       "      <td>-0.712568</td>\n",
       "      <td>-0.679431</td>\n",
       "      <td>...</td>\n",
       "      <td>1.000000</td>\n",
       "      <td>-1.219679</td>\n",
       "      <td>-0.702314</td>\n",
       "      <td>2.427388</td>\n",
       "      <td>-0.407596</td>\n",
       "      <td>-0.407596</td>\n",
       "      <td>-0.407596</td>\n",
       "      <td>-0.407596</td>\n",
       "      <td>-0.407596</td>\n",
       "      <td>-0.407786</td>\n",
       "    </tr>\n",
       "    <tr>\n",
       "      <th>4</th>\n",
       "      <td>0.0</td>\n",
       "      <td>-0.633806</td>\n",
       "      <td>0.0</td>\n",
       "      <td>0.0</td>\n",
       "      <td>0.0</td>\n",
       "      <td>-0.684403</td>\n",
       "      <td>0.581369</td>\n",
       "      <td>0.298836</td>\n",
       "      <td>-0.712568</td>\n",
       "      <td>-0.679431</td>\n",
       "      <td>...</td>\n",
       "      <td>0.707107</td>\n",
       "      <td>-1.219679</td>\n",
       "      <td>-0.702314</td>\n",
       "      <td>2.427388</td>\n",
       "      <td>-0.407596</td>\n",
       "      <td>-0.407596</td>\n",
       "      <td>-0.407596</td>\n",
       "      <td>-0.407596</td>\n",
       "      <td>-0.407596</td>\n",
       "      <td>-0.407786</td>\n",
       "    </tr>\n",
       "  </tbody>\n",
       "</table>\n",
       "<p>5 rows × 39 columns</p>\n",
       "</div>"
      ],
      "text/plain": [
       "   daylight_savings_status  non_shiftable_load  dhw_demand  cooling_demand  \\\n",
       "0                      0.0            1.494038         0.0             0.0   \n",
       "1                      0.0            0.436419         0.0             0.0   \n",
       "2                      0.0            0.088116         0.0             0.0   \n",
       "3                      0.0           -0.633310         0.0             0.0   \n",
       "4                      0.0           -0.633806         0.0             0.0   \n",
       "\n",
       "   heating_demand  solar_generation  outdoor_dry_bulb_temperature  \\\n",
       "0             0.0         -0.684403                      0.891128   \n",
       "1             0.0         -0.684403                      0.919287   \n",
       "2             0.0         -0.684403                      0.806648   \n",
       "3             0.0         -0.684403                      0.694009   \n",
       "4             0.0         -0.684403                      0.581369   \n",
       "\n",
       "   outdoor_relative_humidity  diffuse_solar_irradiance  \\\n",
       "0                   0.690366                 -0.712568   \n",
       "1                   0.364091                 -0.712568   \n",
       "2                   0.298836                 -0.712568   \n",
       "3                   0.298836                 -0.712568   \n",
       "4                   0.298836                 -0.712568   \n",
       "\n",
       "   direct_solar_irradiance  ...  hour_cos  month_sin  month_cos  day_type_1  \\\n",
       "0                -0.679431  ...  1.414214  -0.700959  -1.218894   -0.411966   \n",
       "1                -0.679431  ...  1.366025  -1.219679  -0.702314    2.427388   \n",
       "2                -0.679431  ...  1.224745  -1.219679  -0.702314    2.427388   \n",
       "3                -0.679431  ...  1.000000  -1.219679  -0.702314    2.427388   \n",
       "4                -0.679431  ...  0.707107  -1.219679  -0.702314    2.427388   \n",
       "\n",
       "   day_type_2  day_type_3  day_type_4  day_type_5  day_type_6  day_type_7  \n",
       "0   -0.407596   -0.407596   -0.407596   -0.407596   -0.407596    2.452266  \n",
       "1   -0.407596   -0.407596   -0.407596   -0.407596   -0.407596   -0.407786  \n",
       "2   -0.407596   -0.407596   -0.407596   -0.407596   -0.407596   -0.407786  \n",
       "3   -0.407596   -0.407596   -0.407596   -0.407596   -0.407596   -0.407786  \n",
       "4   -0.407596   -0.407596   -0.407596   -0.407596   -0.407596   -0.407786  \n",
       "\n",
       "[5 rows x 39 columns]"
      ]
     },
     "execution_count": 27,
     "metadata": {},
     "output_type": "execute_result"
    }
   ],
   "source": [
    "# === DATA LOADING ===\n",
    "def load_dataset(path):\n",
    "    return pd.read_csv(path)\n",
    "\n",
    "train_df = load_dataset(os.path.join(DATA_DIR, \"train_data.csv\"))\n",
    "val_df   = load_dataset(os.path.join(DATA_DIR, \"val_data.csv\"))\n",
    "test_df  = load_dataset(os.path.join(DATA_DIR, \"test_data.csv\"))\n",
    "\n",
    "print(\"✅ Data loaded successfully.\")\n",
    "train_df.head()\n"
   ]
  },
  {
   "cell_type": "code",
   "execution_count": 29,
   "id": "eaba1f9a",
   "metadata": {},
   "outputs": [
    {
     "name": "stdout",
     "output_type": "stream",
     "text": [
      "Train shape: (6108, 24, 39), (6108,)\n",
      "Validation shape: (1728, 24, 39), (1728,)\n",
      "Test shape: (852, 24, 39), (852,)\n"
     ]
    }
   ],
   "source": [
    "# === SEQUENCE CREATION ===\n",
    "def create_sequences(df, look_back, target_idx):\n",
    "    X, y = [], []\n",
    "    data = df.values\n",
    "    for i in range(len(data) - look_back):\n",
    "        X.append(data[i:i + look_back])\n",
    "        y.append(data[i + look_back, target_idx])\n",
    "    return np.array(X), np.array(y)\n",
    "\n",
    "X_train, y_train = create_sequences(train_df, LOOK_BACK, TARGET_COL)\n",
    "X_val, y_val     = create_sequences(val_df, LOOK_BACK, TARGET_COL)\n",
    "X_test, y_test   = create_sequences(test_df, LOOK_BACK, TARGET_COL)\n",
    "\n",
    "print(f\"Train shape: {X_train.shape}, {y_train.shape}\")\n",
    "print(f\"Validation shape: {X_val.shape}, {y_val.shape}\")\n",
    "print(f\"Test shape: {X_test.shape}, {y_test.shape}\")\n"
   ]
  },
  {
   "cell_type": "code",
   "execution_count": 31,
   "id": "24b7889a",
   "metadata": {},
   "outputs": [
    {
     "name": "stdout",
     "output_type": "stream",
     "text": [
      "✅ Model compiled.\n"
     ]
    },
    {
     "name": "stderr",
     "output_type": "stream",
     "text": [
      "C:\\Users\\PMLS\\anaconda3\\Lib\\site-packages\\keras\\src\\layers\\rnn\\rnn.py:200: UserWarning: Do not pass an `input_shape`/`input_dim` argument to a layer. When using Sequential models, prefer using an `Input(shape)` object as the first layer in the model instead.\n",
      "  super().__init__(**kwargs)\n"
     ]
    },
    {
     "data": {
      "text/html": [
       "<pre style=\"white-space:pre;overflow-x:auto;line-height:normal;font-family:Menlo,'DejaVu Sans Mono',consolas,'Courier New',monospace\"><span style=\"font-weight: bold\">Model: \"sequential_1\"</span>\n",
       "</pre>\n"
      ],
      "text/plain": [
       "\u001b[1mModel: \"sequential_1\"\u001b[0m\n"
      ]
     },
     "metadata": {},
     "output_type": "display_data"
    },
    {
     "data": {
      "text/html": [
       "<pre style=\"white-space:pre;overflow-x:auto;line-height:normal;font-family:Menlo,'DejaVu Sans Mono',consolas,'Courier New',monospace\">┏━━━━━━━━━━━━━━━━━━━━━━━━━━━━━━━━━━━━━━┳━━━━━━━━━━━━━━━━━━━━━━━━━━━━━┳━━━━━━━━━━━━━━━━━┓\n",
       "┃<span style=\"font-weight: bold\"> Layer (type)                         </span>┃<span style=\"font-weight: bold\"> Output Shape                </span>┃<span style=\"font-weight: bold\">         Param # </span>┃\n",
       "┡━━━━━━━━━━━━━━━━━━━━━━━━━━━━━━━━━━━━━━╇━━━━━━━━━━━━━━━━━━━━━━━━━━━━━╇━━━━━━━━━━━━━━━━━┩\n",
       "│ lstm_1 (<span style=\"color: #0087ff; text-decoration-color: #0087ff\">LSTM</span>)                        │ (<span style=\"color: #00d7ff; text-decoration-color: #00d7ff\">None</span>, <span style=\"color: #00af00; text-decoration-color: #00af00\">64</span>)                  │          <span style=\"color: #00af00; text-decoration-color: #00af00\">26,624</span> │\n",
       "├──────────────────────────────────────┼─────────────────────────────┼─────────────────┤\n",
       "│ dense_2 (<span style=\"color: #0087ff; text-decoration-color: #0087ff\">Dense</span>)                      │ (<span style=\"color: #00d7ff; text-decoration-color: #00d7ff\">None</span>, <span style=\"color: #00af00; text-decoration-color: #00af00\">32</span>)                  │           <span style=\"color: #00af00; text-decoration-color: #00af00\">2,080</span> │\n",
       "├──────────────────────────────────────┼─────────────────────────────┼─────────────────┤\n",
       "│ dense_3 (<span style=\"color: #0087ff; text-decoration-color: #0087ff\">Dense</span>)                      │ (<span style=\"color: #00d7ff; text-decoration-color: #00d7ff\">None</span>, <span style=\"color: #00af00; text-decoration-color: #00af00\">1</span>)                   │              <span style=\"color: #00af00; text-decoration-color: #00af00\">33</span> │\n",
       "└──────────────────────────────────────┴─────────────────────────────┴─────────────────┘\n",
       "</pre>\n"
      ],
      "text/plain": [
       "┏━━━━━━━━━━━━━━━━━━━━━━━━━━━━━━━━━━━━━━┳━━━━━━━━━━━━━━━━━━━━━━━━━━━━━┳━━━━━━━━━━━━━━━━━┓\n",
       "┃\u001b[1m \u001b[0m\u001b[1mLayer (type)                        \u001b[0m\u001b[1m \u001b[0m┃\u001b[1m \u001b[0m\u001b[1mOutput Shape               \u001b[0m\u001b[1m \u001b[0m┃\u001b[1m \u001b[0m\u001b[1m        Param #\u001b[0m\u001b[1m \u001b[0m┃\n",
       "┡━━━━━━━━━━━━━━━━━━━━━━━━━━━━━━━━━━━━━━╇━━━━━━━━━━━━━━━━━━━━━━━━━━━━━╇━━━━━━━━━━━━━━━━━┩\n",
       "│ lstm_1 (\u001b[38;5;33mLSTM\u001b[0m)                        │ (\u001b[38;5;45mNone\u001b[0m, \u001b[38;5;34m64\u001b[0m)                  │          \u001b[38;5;34m26,624\u001b[0m │\n",
       "├──────────────────────────────────────┼─────────────────────────────┼─────────────────┤\n",
       "│ dense_2 (\u001b[38;5;33mDense\u001b[0m)                      │ (\u001b[38;5;45mNone\u001b[0m, \u001b[38;5;34m32\u001b[0m)                  │           \u001b[38;5;34m2,080\u001b[0m │\n",
       "├──────────────────────────────────────┼─────────────────────────────┼─────────────────┤\n",
       "│ dense_3 (\u001b[38;5;33mDense\u001b[0m)                      │ (\u001b[38;5;45mNone\u001b[0m, \u001b[38;5;34m1\u001b[0m)                   │              \u001b[38;5;34m33\u001b[0m │\n",
       "└──────────────────────────────────────┴─────────────────────────────┴─────────────────┘\n"
      ]
     },
     "metadata": {},
     "output_type": "display_data"
    },
    {
     "data": {
      "text/html": [
       "<pre style=\"white-space:pre;overflow-x:auto;line-height:normal;font-family:Menlo,'DejaVu Sans Mono',consolas,'Courier New',monospace\"><span style=\"font-weight: bold\"> Total params: </span><span style=\"color: #00af00; text-decoration-color: #00af00\">28,737</span> (112.25 KB)\n",
       "</pre>\n"
      ],
      "text/plain": [
       "\u001b[1m Total params: \u001b[0m\u001b[38;5;34m28,737\u001b[0m (112.25 KB)\n"
      ]
     },
     "metadata": {},
     "output_type": "display_data"
    },
    {
     "data": {
      "text/html": [
       "<pre style=\"white-space:pre;overflow-x:auto;line-height:normal;font-family:Menlo,'DejaVu Sans Mono',consolas,'Courier New',monospace\"><span style=\"font-weight: bold\"> Trainable params: </span><span style=\"color: #00af00; text-decoration-color: #00af00\">28,737</span> (112.25 KB)\n",
       "</pre>\n"
      ],
      "text/plain": [
       "\u001b[1m Trainable params: \u001b[0m\u001b[38;5;34m28,737\u001b[0m (112.25 KB)\n"
      ]
     },
     "metadata": {},
     "output_type": "display_data"
    },
    {
     "data": {
      "text/html": [
       "<pre style=\"white-space:pre;overflow-x:auto;line-height:normal;font-family:Menlo,'DejaVu Sans Mono',consolas,'Courier New',monospace\"><span style=\"font-weight: bold\"> Non-trainable params: </span><span style=\"color: #00af00; text-decoration-color: #00af00\">0</span> (0.00 B)\n",
       "</pre>\n"
      ],
      "text/plain": [
       "\u001b[1m Non-trainable params: \u001b[0m\u001b[38;5;34m0\u001b[0m (0.00 B)\n"
      ]
     },
     "metadata": {},
     "output_type": "display_data"
    }
   ],
   "source": [
    "# === MODEL BUILDING ===\n",
    "model = Sequential([\n",
    "    LSTM(64, activation='tanh', input_shape=(LOOK_BACK, X_train.shape[2])),\n",
    "    Dense(32, activation='relu'),\n",
    "    Dense(1)\n",
    "])\n",
    "model.compile(optimizer='adam', loss='mse')\n",
    "\n",
    "print(\"✅ Model compiled.\")\n",
    "model.summary()\n"
   ]
  },
  {
   "cell_type": "code",
   "execution_count": 33,
   "id": "348e4120",
   "metadata": {},
   "outputs": [
    {
     "name": "stdout",
     "output_type": "stream",
     "text": [
      "✅ Callbacks initialized.\n"
     ]
    }
   ],
   "source": [
    "# === CALLBACKS ===\n",
    "early_stop = EarlyStopping(monitor='val_loss', patience=PATIENCE, restore_best_weights=True)\n",
    "checkpoint_cb = ModelCheckpoint(\n",
    "    filepath=CHECKPOINT_PATH,\n",
    "    monitor='val_loss',\n",
    "    save_best_only=True,\n",
    "    verbose=1\n",
    ")\n",
    "\n",
    "print(\"✅ Callbacks initialized.\")\n"
   ]
  },
  {
   "cell_type": "code",
   "execution_count": 35,
   "id": "4713c79c",
   "metadata": {},
   "outputs": [
    {
     "name": "stdout",
     "output_type": "stream",
     "text": [
      "Epoch 1/10\n",
      "\u001b[1m189/191\u001b[0m \u001b[32m━━━━━━━━━━━━━━━━━━━\u001b[0m\u001b[37m━\u001b[0m \u001b[1m0s\u001b[0m 7ms/step - loss: 0.0166\n",
      "Epoch 1: val_loss improved from inf to 0.00481, saving model to C:\\Users\\PMLS\\ml\\Machine Learning\\Machine Learning lab\\Open ended lab\\E1-cp-best.h5\n"
     ]
    },
    {
     "name": "stderr",
     "output_type": "stream",
     "text": [
      "WARNING:absl:You are saving your model as an HDF5 file via `model.save()` or `keras.saving.save_model(model)`. This file format is considered legacy. We recommend using instead the native Keras format, e.g. `model.save('my_model.keras')` or `keras.saving.save_model(model, 'my_model.keras')`. \n"
     ]
    },
    {
     "name": "stdout",
     "output_type": "stream",
     "text": [
      "\u001b[1m191/191\u001b[0m \u001b[32m━━━━━━━━━━━━━━━━━━━━\u001b[0m\u001b[37m\u001b[0m \u001b[1m4s\u001b[0m 10ms/step - loss: 0.0165 - val_loss: 0.0048\n",
      "Epoch 2/10\n",
      "\u001b[1m188/191\u001b[0m \u001b[32m━━━━━━━━━━━━━━━━━━━\u001b[0m\u001b[37m━\u001b[0m \u001b[1m0s\u001b[0m 6ms/step - loss: 0.0010\n",
      "Epoch 2: val_loss improved from 0.00481 to 0.00385, saving model to C:\\Users\\PMLS\\ml\\Machine Learning\\Machine Learning lab\\Open ended lab\\E1-cp-best.h5\n"
     ]
    },
    {
     "name": "stderr",
     "output_type": "stream",
     "text": [
      "WARNING:absl:You are saving your model as an HDF5 file via `model.save()` or `keras.saving.save_model(model)`. This file format is considered legacy. We recommend using instead the native Keras format, e.g. `model.save('my_model.keras')` or `keras.saving.save_model(model, 'my_model.keras')`. \n"
     ]
    },
    {
     "name": "stdout",
     "output_type": "stream",
     "text": [
      "\u001b[1m191/191\u001b[0m \u001b[32m━━━━━━━━━━━━━━━━━━━━\u001b[0m\u001b[37m\u001b[0m \u001b[1m2s\u001b[0m 8ms/step - loss: 0.0010 - val_loss: 0.0038\n",
      "Epoch 3/10\n",
      "\u001b[1m189/191\u001b[0m \u001b[32m━━━━━━━━━━━━━━━━━━━\u001b[0m\u001b[37m━\u001b[0m \u001b[1m0s\u001b[0m 7ms/step - loss: 5.6252e-04\n",
      "Epoch 3: val_loss improved from 0.00385 to 0.00334, saving model to C:\\Users\\PMLS\\ml\\Machine Learning\\Machine Learning lab\\Open ended lab\\E1-cp-best.h5\n"
     ]
    },
    {
     "name": "stderr",
     "output_type": "stream",
     "text": [
      "WARNING:absl:You are saving your model as an HDF5 file via `model.save()` or `keras.saving.save_model(model)`. This file format is considered legacy. We recommend using instead the native Keras format, e.g. `model.save('my_model.keras')` or `keras.saving.save_model(model, 'my_model.keras')`. \n"
     ]
    },
    {
     "name": "stdout",
     "output_type": "stream",
     "text": [
      "\u001b[1m191/191\u001b[0m \u001b[32m━━━━━━━━━━━━━━━━━━━━\u001b[0m\u001b[37m\u001b[0m \u001b[1m2s\u001b[0m 8ms/step - loss: 5.6201e-04 - val_loss: 0.0033\n",
      "Epoch 4/10\n",
      "\u001b[1m187/191\u001b[0m \u001b[32m━━━━━━━━━━━━━━━━━━━\u001b[0m\u001b[37m━\u001b[0m \u001b[1m0s\u001b[0m 7ms/step - loss: 3.8241e-04\n",
      "Epoch 4: val_loss improved from 0.00334 to 0.00316, saving model to C:\\Users\\PMLS\\ml\\Machine Learning\\Machine Learning lab\\Open ended lab\\E1-cp-best.h5\n"
     ]
    },
    {
     "name": "stderr",
     "output_type": "stream",
     "text": [
      "WARNING:absl:You are saving your model as an HDF5 file via `model.save()` or `keras.saving.save_model(model)`. This file format is considered legacy. We recommend using instead the native Keras format, e.g. `model.save('my_model.keras')` or `keras.saving.save_model(model, 'my_model.keras')`. \n"
     ]
    },
    {
     "name": "stdout",
     "output_type": "stream",
     "text": [
      "\u001b[1m191/191\u001b[0m \u001b[32m━━━━━━━━━━━━━━━━━━━━\u001b[0m\u001b[37m\u001b[0m \u001b[1m2s\u001b[0m 8ms/step - loss: 3.8207e-04 - val_loss: 0.0032\n",
      "Epoch 5/10\n",
      "\u001b[1m184/191\u001b[0m \u001b[32m━━━━━━━━━━━━━━━━━━━\u001b[0m\u001b[37m━\u001b[0m \u001b[1m0s\u001b[0m 6ms/step - loss: 2.7088e-04\n",
      "Epoch 5: val_loss improved from 0.00316 to 0.00287, saving model to C:\\Users\\PMLS\\ml\\Machine Learning\\Machine Learning lab\\Open ended lab\\E1-cp-best.h5\n"
     ]
    },
    {
     "name": "stderr",
     "output_type": "stream",
     "text": [
      "WARNING:absl:You are saving your model as an HDF5 file via `model.save()` or `keras.saving.save_model(model)`. This file format is considered legacy. We recommend using instead the native Keras format, e.g. `model.save('my_model.keras')` or `keras.saving.save_model(model, 'my_model.keras')`. \n"
     ]
    },
    {
     "name": "stdout",
     "output_type": "stream",
     "text": [
      "\u001b[1m191/191\u001b[0m \u001b[32m━━━━━━━━━━━━━━━━━━━━\u001b[0m\u001b[37m\u001b[0m \u001b[1m1s\u001b[0m 8ms/step - loss: 2.7078e-04 - val_loss: 0.0029\n",
      "Epoch 6/10\n",
      "\u001b[1m185/191\u001b[0m \u001b[32m━━━━━━━━━━━━━━━━━━━\u001b[0m\u001b[37m━\u001b[0m \u001b[1m0s\u001b[0m 7ms/step - loss: 2.2418e-04\n",
      "Epoch 6: val_loss improved from 0.00287 to 0.00261, saving model to C:\\Users\\PMLS\\ml\\Machine Learning\\Machine Learning lab\\Open ended lab\\E1-cp-best.h5\n"
     ]
    },
    {
     "name": "stderr",
     "output_type": "stream",
     "text": [
      "WARNING:absl:You are saving your model as an HDF5 file via `model.save()` or `keras.saving.save_model(model)`. This file format is considered legacy. We recommend using instead the native Keras format, e.g. `model.save('my_model.keras')` or `keras.saving.save_model(model, 'my_model.keras')`. \n"
     ]
    },
    {
     "name": "stdout",
     "output_type": "stream",
     "text": [
      "\u001b[1m191/191\u001b[0m \u001b[32m━━━━━━━━━━━━━━━━━━━━\u001b[0m\u001b[37m\u001b[0m \u001b[1m2s\u001b[0m 8ms/step - loss: 2.2419e-04 - val_loss: 0.0026\n",
      "Epoch 7/10\n",
      "\u001b[1m188/191\u001b[0m \u001b[32m━━━━━━━━━━━━━━━━━━━\u001b[0m\u001b[37m━\u001b[0m \u001b[1m0s\u001b[0m 7ms/step - loss: 1.7611e-04\n",
      "Epoch 7: val_loss improved from 0.00261 to 0.00233, saving model to C:\\Users\\PMLS\\ml\\Machine Learning\\Machine Learning lab\\Open ended lab\\E1-cp-best.h5\n"
     ]
    },
    {
     "name": "stderr",
     "output_type": "stream",
     "text": [
      "WARNING:absl:You are saving your model as an HDF5 file via `model.save()` or `keras.saving.save_model(model)`. This file format is considered legacy. We recommend using instead the native Keras format, e.g. `model.save('my_model.keras')` or `keras.saving.save_model(model, 'my_model.keras')`. \n"
     ]
    },
    {
     "name": "stdout",
     "output_type": "stream",
     "text": [
      "\u001b[1m191/191\u001b[0m \u001b[32m━━━━━━━━━━━━━━━━━━━━\u001b[0m\u001b[37m\u001b[0m \u001b[1m2s\u001b[0m 8ms/step - loss: 1.7614e-04 - val_loss: 0.0023\n",
      "Epoch 8/10\n",
      "\u001b[1m191/191\u001b[0m \u001b[32m━━━━━━━━━━━━━━━━━━━━\u001b[0m\u001b[37m\u001b[0m \u001b[1m0s\u001b[0m 7ms/step - loss: 1.3798e-04\n",
      "Epoch 8: val_loss did not improve from 0.00233\n",
      "\u001b[1m191/191\u001b[0m \u001b[32m━━━━━━━━━━━━━━━━━━━━\u001b[0m\u001b[37m\u001b[0m \u001b[1m2s\u001b[0m 8ms/step - loss: 1.3802e-04 - val_loss: 0.0023\n",
      "Epoch 9/10\n",
      "\u001b[1m185/191\u001b[0m \u001b[32m━━━━━━━━━━━━━━━━━━━\u001b[0m\u001b[37m━\u001b[0m \u001b[1m0s\u001b[0m 7ms/step - loss: 1.2935e-04\n",
      "Epoch 9: val_loss improved from 0.00233 to 0.00209, saving model to C:\\Users\\PMLS\\ml\\Machine Learning\\Machine Learning lab\\Open ended lab\\E1-cp-best.h5\n"
     ]
    },
    {
     "name": "stderr",
     "output_type": "stream",
     "text": [
      "WARNING:absl:You are saving your model as an HDF5 file via `model.save()` or `keras.saving.save_model(model)`. This file format is considered legacy. We recommend using instead the native Keras format, e.g. `model.save('my_model.keras')` or `keras.saving.save_model(model, 'my_model.keras')`. \n"
     ]
    },
    {
     "name": "stdout",
     "output_type": "stream",
     "text": [
      "\u001b[1m191/191\u001b[0m \u001b[32m━━━━━━━━━━━━━━━━━━━━\u001b[0m\u001b[37m\u001b[0m \u001b[1m2s\u001b[0m 8ms/step - loss: 1.2946e-04 - val_loss: 0.0021\n",
      "Epoch 10/10\n",
      "\u001b[1m185/191\u001b[0m \u001b[32m━━━━━━━━━━━━━━━━━━━\u001b[0m\u001b[37m━\u001b[0m \u001b[1m0s\u001b[0m 7ms/step - loss: 1.1862e-04\n",
      "Epoch 10: val_loss improved from 0.00209 to 0.00190, saving model to C:\\Users\\PMLS\\ml\\Machine Learning\\Machine Learning lab\\Open ended lab\\E1-cp-best.h5\n"
     ]
    },
    {
     "name": "stderr",
     "output_type": "stream",
     "text": [
      "WARNING:absl:You are saving your model as an HDF5 file via `model.save()` or `keras.saving.save_model(model)`. This file format is considered legacy. We recommend using instead the native Keras format, e.g. `model.save('my_model.keras')` or `keras.saving.save_model(model, 'my_model.keras')`. \n"
     ]
    },
    {
     "name": "stdout",
     "output_type": "stream",
     "text": [
      "\u001b[1m191/191\u001b[0m \u001b[32m━━━━━━━━━━━━━━━━━━━━\u001b[0m\u001b[37m\u001b[0m \u001b[1m2s\u001b[0m 9ms/step - loss: 1.1906e-04 - val_loss: 0.0019\n",
      "✅ Training complete.\n"
     ]
    }
   ],
   "source": [
    "# === TRAINING ===\n",
    "history = model.fit(\n",
    "    X_train, y_train,\n",
    "    validation_data=(X_val, y_val),\n",
    "    epochs=EPOCHS,\n",
    "    batch_size=BATCH_SIZE,\n",
    "    callbacks=[early_stop, checkpoint_cb],\n",
    "    verbose=1\n",
    ")\n",
    "\n",
    "print(\"✅ Training complete.\")\n"
   ]
  },
  {
   "cell_type": "code",
   "execution_count": 37,
   "id": "8069d9ec",
   "metadata": {},
   "outputs": [
    {
     "name": "stdout",
     "output_type": "stream",
     "text": [
      "\n",
      "✅ Validation RMSE: 0.0435\n",
      "✅ Test RMSE: 0.0350\n"
     ]
    }
   ],
   "source": [
    "# === EVALUATION ===\n",
    "val_loss = model.evaluate(X_val, y_val, verbose=0)\n",
    "test_loss = model.evaluate(X_test, y_test, verbose=0)\n",
    "\n",
    "val_rmse = np.sqrt(val_loss)\n",
    "test_rmse = np.sqrt(test_loss)\n",
    "\n",
    "print(f\"\\n✅ Validation RMSE: {val_rmse:.4f}\")\n",
    "print(f\"✅ Test RMSE: {test_rmse:.4f}\")\n"
   ]
  },
  {
   "cell_type": "code",
   "execution_count": 41,
   "id": "a7ee1bf7",
   "metadata": {},
   "outputs": [
    {
     "name": "stderr",
     "output_type": "stream",
     "text": [
      "WARNING:absl:You are saving your model as an HDF5 file via `model.save()` or `keras.saving.save_model(model)`. This file format is considered legacy. We recommend using instead the native Keras format, e.g. `model.save('my_model.keras')` or `keras.saving.save_model(model, 'my_model.keras')`. \n"
     ]
    },
    {
     "name": "stdout",
     "output_type": "stream",
     "text": [
      "\n",
      "✅ Model saved to: C:\\Users\\PMLS\\ml\\Machine Learning\\Machine Learning lab\\Open ended lab\\lstm_model.h5\n",
      "✅ Best checkpoint saved to: C:\\Users\\PMLS\\ml\\Machine Learning\\Machine Learning lab\\Open ended lab\\E1-cp-best.h5\n"
     ]
    }
   ],
   "source": [
    "# === SAVE FINAL MODEL ===\n",
    "model.save(MODEL_PATH)\n",
    "print(f\"\\n✅ Model saved to: {MODEL_PATH}\")\n",
    "print(f\"✅ Best checkpoint saved to: {CHECKPOINT_PATH}\")\n"
   ]
  },
  {
   "cell_type": "code",
   "execution_count": 43,
   "id": "a7da4506-cac4-45dd-b52b-e7066f0e1856",
   "metadata": {},
   "outputs": [
    {
     "data": {
      "image/png": "[encoded data removed]",
      "text/plain": [
       "<Figure size 1000x600 with 1 Axes>"
      ]
     },
     "metadata": {},
     "output_type": "display_data"
    }
   ],
   "source": [
    "import matplotlib.pyplot as plt\n",
    "\n",
    "# === PLOT TRAINING AND VALIDATION LOSS ===\n",
    "plt.figure(figsize=(10, 6))\n",
    "plt.plot(history.history['loss'], label='Training Loss', color='blue')\n",
    "plt.plot(history.history['val_loss'], label='Validation Loss', color='orange')\n",
    "plt.title('Model Loss Over Epochs')\n",
    "plt.xlabel('Epochs')\n",
    "plt.ylabel('Mean Squared Error (MSE)')\n",
    "plt.legend()\n",
    "plt.grid(True)\n",
    "plt.tight_layout()\n",
    "plt.show()\n"
   ]
  },
  {
   "cell_type": "code",
   "execution_count": null,
   "id": "09bca6f4-5e79-4f47-9c81-83d42a5558a5",
   "metadata": {},
   "outputs": [],
   "source": []
  }
 ],
 "metadata": {
  "kernelspec": {
   "display_name": "Python 3 (ipykernel)",
   "language": "python",
   "name": "python3"
  },
  "language_info": {
   "codemirror_mode": {
    "name": "ipython",
    "version": 3
   },
   "file_extension": ".py",
   "mimetype": "text/x-python",
   "name": "python",
   "nbconvert_exporter": "python",
   "pygments_lexer": "ipython3",
   "version": "3.12.4"
  }
 },
 "nbformat": 4,
 "nbformat_minor": 5
}
